{
 "cells": [
  {
   "attachments": {},
   "cell_type": "markdown",
   "metadata": {},
   "source": [
    "# The `input(prompt)` Function\n",
    "\n",
    "**Arguments**:\n",
    "- `prompt`: `str`, representing a default message before the input.\n",
    "\n",
    "**Returns**:\n",
    "- `str`, the input of the user into the terminal."
   ]
  },
  {
   "cell_type": "code",
   "execution_count": null,
   "metadata": {},
   "outputs": [],
   "source": [
    "user = input(\"Enter username:\")\n",
    "print(f\"Welcome back, {user}!\")"
   ]
  },
  {
   "cell_type": "code",
   "execution_count": null,
   "metadata": {},
   "outputs": [],
   "source": [
    "num = input(\"Enter a number to add to 2:\")\n",
    "result = 2 + num\n",
    "print(result)\n",
    "\n",
    "# THIS IS A COMMON PITFALL:\n",
    "# input() will ALWAYS return a str, so we have to convert it using type casting to a number\n",
    "# \"How do we fix it?\"\""
   ]
  },
  {
   "attachments": {},
   "cell_type": "markdown",
   "metadata": {},
   "source": [
    "# Project: Registration Form Generator\n",
    "\n",
    "### Specifications\n",
    "\n",
    "> You are assigned at a Registration Booth to give people receipts after they have successfully registered in the event you are hosting.\n",
    "\n",
    "> Because you're a ~~lazy~~ smart person, you decide to make it more efficient by utilizing a Thermal Printer and some Python code to automate the writing based on user input.\n",
    "\n",
    "> Here are the age groups;\n",
    "> - Child (1-12 y/o)\n",
    "> - Teen (13-17 y/o)\n",
    "> - Adult (18-64 y/o)\n",
    "> - Elderly (65+ y/o)\n",
    "\n",
    "---\n",
    "\n",
    "Make a Python script that asks for a multitude of fields to be inputted by the user;\n",
    "- `first_name`: the first name of the user `str`\n",
    "- `last_name`: the last name of the user `str`\n",
    "- `age`: the age of the user `int`\n",
    "- `sex`: the sex of the user `str`\n",
    "- `age_group`: the age group the user belongs to `str`\n",
    "\n",
    "The script must then ***print it out in a specific format*** to be printed out by a Thermal Printer as a receipt.\n",
    "\n",
    "**NOTE: Assume perfectly formatted User Input.** *No need to handle bad input for now, Error Handling or Input Validation is a whole other rabbit hole.*\n",
    "\n",
    "---\n",
    "\n",
    "### Sample Output\n",
    "\n",
    "```\n",
    "-------------------------\n",
    "YOUR REGISTRATION DETAILS\n",
    "-------------------------\n",
    "\n",
    "Name: de la Cruz, Juan\n",
    "Sex: M\n",
    "\n",
    "Age: 20\n",
    "Date of Birth: 2002\n",
    "\n",
    "Age Group: Adult\n",
    "\n",
    "```\n"
   ]
  }
 ],
 "metadata": {
  "kernelspec": {
   "display_name": "Python 3",
   "language": "python",
   "name": "python3"
  },
  "language_info": {
   "codemirror_mode": {
    "name": "ipython",
    "version": 3
   },
   "file_extension": ".py",
   "mimetype": "text/x-python",
   "name": "python",
   "nbconvert_exporter": "python",
   "pygments_lexer": "ipython3",
   "version": "3.10.4"
  },
  "orig_nbformat": 4,
  "vscode": {
   "interpreter": {
    "hash": "2244920e596a89d8476fb1baadd18abd9f7721c4cc7e9fdee450c56fc50b4773"
   }
  }
 },
 "nbformat": 4,
 "nbformat_minor": 2
}
